{
  "nbformat": 4,
  "nbformat_minor": 0,
  "metadata": {
    "colab": {
      "name": "01_dasar.ipynb",
      "version": "0.3.2",
      "provenance": [],
      "include_colab_link": true
    },
    "kernelspec": {
      "name": "python3",
      "display_name": "Python 3"
    },
    "accelerator": "GPU"
  },
  "cells": [
    {
      "cell_type": "markdown",
      "metadata": {
        "id": "view-in-github",
        "colab_type": "text"
      },
      "source": [
        "<a href=\"https://colab.research.google.com/github/thomhert/belajar-PyTorch/blob/master/01_dasar.ipynb\" target=\"_parent\"><img src=\"https://colab.research.google.com/assets/colab-badge.svg\" alt=\"Open In Colab\"/></a>"
      ]
    },
    {
      "cell_type": "code",
      "metadata": {
        "id": "YiW6lpDjjBVE",
        "colab_type": "code",
        "colab": {}
      },
      "source": [
        "%matplotlib inline\n",
        "import torch\n",
        "import torch.nn as nn\n",
        "import torch.nn.functional as F\n",
        "import torch.optim as optim\n",
        "import torchvision"
      ],
      "execution_count": 0,
      "outputs": []
    },
    {
      "cell_type": "code",
      "metadata": {
        "id": "tPnmi9s8jvbT",
        "colab_type": "code",
        "colab": {}
      },
      "source": [
        "from pprint import pprint\n",
        "\n",
        "import matplotlib.pyplot as plt\n",
        "import numpy as np\n",
        "from IPython.core.debugger import set_trace"
      ],
      "execution_count": 0,
      "outputs": []
    },
    {
      "cell_type": "markdown",
      "metadata": {
        "id": "zp9UZUV_pfEc",
        "colab_type": "text"
      },
      "source": [
        "# **Membuat Tensor**"
      ]
    },
    {
      "cell_type": "code",
      "metadata": {
        "id": "Q_vgY79KjxYA",
        "colab_type": "code",
        "colab": {}
      },
      "source": [
        "import numpy as np\n",
        "from numpy.linalg import inv\n",
        "from numpy.linalg import multi_dot as mdot"
      ],
      "execution_count": 0,
      "outputs": []
    },
    {
      "cell_type": "code",
      "metadata": {
        "id": "UAnb-An1jztV",
        "colab_type": "code",
        "colab": {
          "base_uri": "https://localhost:8080/",
          "height": 68
        },
        "outputId": "6f2da7d1-9cfd-490c-b33a-7f5639d1bceb"
      },
      "source": [
        "#numpy -> membuat matriks diagonal\n",
        "np.eye(3)"
      ],
      "execution_count": 4,
      "outputs": [
        {
          "output_type": "execute_result",
          "data": {
            "text/plain": [
              "array([[1., 0., 0.],\n",
              "       [0., 1., 0.],\n",
              "       [0., 0., 1.]])"
            ]
          },
          "metadata": {
            "tags": []
          },
          "execution_count": 4
        }
      ]
    },
    {
      "cell_type": "code",
      "metadata": {
        "id": "KHaMOPU-j6L4",
        "colab_type": "code",
        "colab": {
          "base_uri": "https://localhost:8080/",
          "height": 68
        },
        "outputId": "b1034883-2f0b-454f-d93d-58f39725b969"
      },
      "source": [
        "# pytorch\n",
        "torch.eye(3)"
      ],
      "execution_count": 5,
      "outputs": [
        {
          "output_type": "execute_result",
          "data": {
            "text/plain": [
              "tensor([[1., 0., 0.],\n",
              "        [0., 1., 0.],\n",
              "        [0., 0., 1.]])"
            ]
          },
          "metadata": {
            "tags": []
          },
          "execution_count": 5
        }
      ]
    },
    {
      "cell_type": "code",
      "metadata": {
        "id": "14cNj9yQkzkS",
        "colab_type": "code",
        "colab": {}
      },
      "source": [
        "# Membuat matriks secara acak (random)"
      ],
      "execution_count": 0,
      "outputs": []
    },
    {
      "cell_type": "code",
      "metadata": {
        "id": "DtHsuQSBoTzL",
        "colab_type": "code",
        "colab": {}
      },
      "source": [
        "X_n = np.random.random((5,4))"
      ],
      "execution_count": 0,
      "outputs": []
    },
    {
      "cell_type": "code",
      "metadata": {
        "id": "06X-v_2vohOQ",
        "colab_type": "code",
        "colab": {
          "base_uri": "https://localhost:8080/",
          "height": 102
        },
        "outputId": "b9283b67-b1e3-43de-98d7-c69012a51eac"
      },
      "source": [
        "X_n"
      ],
      "execution_count": 9,
      "outputs": [
        {
          "output_type": "execute_result",
          "data": {
            "text/plain": [
              "array([[0.83993221, 0.92822011, 0.68339311, 0.57806312],\n",
              "       [0.10224011, 0.30221282, 0.32110765, 0.51741471],\n",
              "       [0.96250253, 0.57173042, 0.70097562, 0.81244783],\n",
              "       [0.42266812, 0.16613138, 0.85941345, 0.13749165],\n",
              "       [0.92016628, 0.92366926, 0.19800362, 0.11924516]])"
            ]
          },
          "metadata": {
            "tags": []
          },
          "execution_count": 9
        }
      ]
    },
    {
      "cell_type": "code",
      "metadata": {
        "id": "62HyXQTlqZx3",
        "colab_type": "code",
        "colab": {}
      },
      "source": [
        "X_t = torch.rand((5,4))"
      ],
      "execution_count": 0,
      "outputs": []
    },
    {
      "cell_type": "code",
      "metadata": {
        "id": "aAUGIcjWqd64",
        "colab_type": "code",
        "colab": {
          "base_uri": "https://localhost:8080/",
          "height": 102
        },
        "outputId": "a6bdc243-3360-4d07-c6da-1e7307010975"
      },
      "source": [
        "X_t"
      ],
      "execution_count": 11,
      "outputs": [
        {
          "output_type": "execute_result",
          "data": {
            "text/plain": [
              "tensor([[0.8936, 0.4026, 0.6184, 0.5176],\n",
              "        [0.8176, 0.1887, 0.9394, 0.2330],\n",
              "        [0.6870, 0.8124, 0.7143, 0.9505],\n",
              "        [0.3427, 0.5849, 0.9688, 0.8280],\n",
              "        [0.6269, 0.3038, 0.9628, 0.3303]])"
            ]
          },
          "metadata": {
            "tags": []
          },
          "execution_count": 11
        }
      ]
    },
    {
      "cell_type": "code",
      "metadata": {
        "id": "spdnoD8yqe3x",
        "colab_type": "code",
        "colab": {
          "base_uri": "https://localhost:8080/",
          "height": 34
        },
        "outputId": "d3879e57-99fc-49c7-b583-5549c25347d2"
      },
      "source": [
        "X_n.shape"
      ],
      "execution_count": 12,
      "outputs": [
        {
          "output_type": "execute_result",
          "data": {
            "text/plain": [
              "(5, 4)"
            ]
          },
          "metadata": {
            "tags": []
          },
          "execution_count": 12
        }
      ]
    },
    {
      "cell_type": "code",
      "metadata": {
        "id": "jlsOa_P8qhxM",
        "colab_type": "code",
        "colab": {
          "base_uri": "https://localhost:8080/",
          "height": 34
        },
        "outputId": "6a1a637e-6f42-4dea-9e40-a7a0072fc5fc"
      },
      "source": [
        "X_t.shape"
      ],
      "execution_count": 13,
      "outputs": [
        {
          "output_type": "execute_result",
          "data": {
            "text/plain": [
              "torch.Size([5, 4])"
            ]
          },
          "metadata": {
            "tags": []
          },
          "execution_count": 13
        }
      ]
    },
    {
      "cell_type": "code",
      "metadata": {
        "id": "Iv4AyFBKqi1L",
        "colab_type": "code",
        "colab": {
          "base_uri": "https://localhost:8080/",
          "height": 85
        },
        "outputId": "ced91498-3741-48ed-a3b2-df9371f40656"
      },
      "source": [
        "#\n",
        "X_n.T @ X_n"
      ],
      "execution_count": 14,
      "outputs": [
        {
          "output_type": "execute_result",
          "data": {
            "text/plain": [
              "array([[2.66770461, 2.28097996, 1.8269677 , 1.48825618],\n",
              "       [2.28097996, 2.16056536, 1.45781656, 1.29042507],\n",
              "       [1.8269677 , 1.45781656, 1.83930001, 1.27246944],\n",
              "       [1.48825618, 1.29042507, 1.27246944, 1.29506979]])"
            ]
          },
          "metadata": {
            "tags": []
          },
          "execution_count": 14
        }
      ]
    },
    {
      "cell_type": "code",
      "metadata": {
        "id": "9m51J-DaqoRd",
        "colab_type": "code",
        "colab": {
          "base_uri": "https://localhost:8080/",
          "height": 85
        },
        "outputId": "2f907e5b-9617-4168-ae74-fa0241c07010"
      },
      "source": [
        "X_t.t() @ X_t"
      ],
      "execution_count": 15,
      "outputs": [
        {
          "output_type": "execute_result",
          "data": {
            "text/plain": [
              "tensor([[2.4493, 1.4631, 2.7470, 1.7968],\n",
              "        [1.4631, 1.2921, 1.8657, 1.6091],\n",
              "        [2.7470, 1.8657, 3.6408, 2.3380],\n",
              "        [1.7968, 1.6091, 2.3380, 2.0202]])"
            ]
          },
          "metadata": {
            "tags": []
          },
          "execution_count": 15
        }
      ]
    },
    {
      "cell_type": "code",
      "metadata": {
        "id": "b4aujJBWqu64",
        "colab_type": "code",
        "colab": {
          "base_uri": "https://localhost:8080/",
          "height": 85
        },
        "outputId": "7668c2f6-e8e7-4642-91e2-3823e8597420"
      },
      "source": [
        "inv(X_n.T @ X_n)"
      ],
      "execution_count": 16,
      "outputs": [
        {
          "output_type": "execute_result",
          "data": {
            "text/plain": [
              "array([[ 6.15490319, -5.14826232, -2.15076508,  0.1699962 ],\n",
              "       [-5.14826232,  5.53545543,  1.40270086, -0.97759308],\n",
              "       [-2.15076508,  1.40270086,  2.57702164, -1.45812391],\n",
              "       [ 0.1699962 , -0.97759308, -1.45812391,  2.98356959]])"
            ]
          },
          "metadata": {
            "tags": []
          },
          "execution_count": 16
        }
      ]
    },
    {
      "cell_type": "code",
      "metadata": {
        "id": "rdzUPKL_q0pP",
        "colab_type": "code",
        "colab": {
          "base_uri": "https://localhost:8080/",
          "height": 85
        },
        "outputId": "8d4c00eb-7844-4219-d42e-868cccab7064"
      },
      "source": [
        "torch.inverse(X_t.t() @ X_t)"
      ],
      "execution_count": 17,
      "outputs": [
        {
          "output_type": "execute_result",
          "data": {
            "text/plain": [
              "tensor([[  3.4373,  -9.7645,  -2.4186,   7.5194],\n",
              "        [ -9.7645, 124.1083,   6.5197, -97.7150],\n",
              "        [ -2.4186,   6.5198,   2.7726,  -6.2508],\n",
              "        [  7.5194, -97.7150,  -6.2508,  78.8728]])"
            ]
          },
          "metadata": {
            "tags": []
          },
          "execution_count": 17
        }
      ]
    },
    {
      "cell_type": "markdown",
      "metadata": {
        "id": "wxofb5OKtXvU",
        "colab_type": "text"
      },
      "source": [
        "# **Lanjutan**"
      ]
    },
    {
      "cell_type": "code",
      "metadata": {
        "id": "RRvVCBynq6fd",
        "colab_type": "code",
        "colab": {}
      },
      "source": [
        "A = torch.eye(3)"
      ],
      "execution_count": 0,
      "outputs": []
    },
    {
      "cell_type": "code",
      "metadata": {
        "id": "TBWI4kQGtn4T",
        "colab_type": "code",
        "colab": {
          "base_uri": "https://localhost:8080/",
          "height": 68
        },
        "outputId": "95f243d1-981e-4460-e030-8c316fac4fec"
      },
      "source": [
        "A"
      ],
      "execution_count": 19,
      "outputs": [
        {
          "output_type": "execute_result",
          "data": {
            "text/plain": [
              "tensor([[1., 0., 0.],\n",
              "        [0., 1., 0.],\n",
              "        [0., 0., 1.]])"
            ]
          },
          "metadata": {
            "tags": []
          },
          "execution_count": 19
        }
      ]
    },
    {
      "cell_type": "code",
      "metadata": {
        "id": "jpLU_lcstocs",
        "colab_type": "code",
        "colab": {
          "base_uri": "https://localhost:8080/",
          "height": 68
        },
        "outputId": "f2373990-c628-42f7-b6ea-21046728b74f"
      },
      "source": [
        "A.add(1)"
      ],
      "execution_count": 20,
      "outputs": [
        {
          "output_type": "execute_result",
          "data": {
            "text/plain": [
              "tensor([[2., 1., 1.],\n",
              "        [1., 2., 1.],\n",
              "        [1., 1., 2.]])"
            ]
          },
          "metadata": {
            "tags": []
          },
          "execution_count": 20
        }
      ]
    },
    {
      "cell_type": "code",
      "metadata": {
        "id": "6VNHxHqCtsTR",
        "colab_type": "code",
        "colab": {
          "base_uri": "https://localhost:8080/",
          "height": 68
        },
        "outputId": "53b3ec76-c534-4f24-a1e1-465ecda7d05d"
      },
      "source": [
        "A"
      ],
      "execution_count": 21,
      "outputs": [
        {
          "output_type": "execute_result",
          "data": {
            "text/plain": [
              "tensor([[1., 0., 0.],\n",
              "        [0., 1., 0.],\n",
              "        [0., 0., 1.]])"
            ]
          },
          "metadata": {
            "tags": []
          },
          "execution_count": 21
        }
      ]
    },
    {
      "cell_type": "code",
      "metadata": {
        "id": "kjlQs8wrttHz",
        "colab_type": "code",
        "colab": {}
      },
      "source": [
        "# nilai A tidak berubah"
      ],
      "execution_count": 0,
      "outputs": []
    },
    {
      "cell_type": "code",
      "metadata": {
        "id": "eflBcKKvtvhL",
        "colab_type": "code",
        "colab": {
          "base_uri": "https://localhost:8080/",
          "height": 68
        },
        "outputId": "028399d6-b029-4b70-ef0a-9f0a8e360801"
      },
      "source": [
        "A.add_(1)"
      ],
      "execution_count": 23,
      "outputs": [
        {
          "output_type": "execute_result",
          "data": {
            "text/plain": [
              "tensor([[2., 1., 1.],\n",
              "        [1., 2., 1.],\n",
              "        [1., 1., 2.]])"
            ]
          },
          "metadata": {
            "tags": []
          },
          "execution_count": 23
        }
      ]
    },
    {
      "cell_type": "code",
      "metadata": {
        "id": "1WtGuWkptxUb",
        "colab_type": "code",
        "colab": {
          "base_uri": "https://localhost:8080/",
          "height": 68
        },
        "outputId": "56277e84-f2ba-4abc-8857-9d5136e5a096"
      },
      "source": [
        "A"
      ],
      "execution_count": 24,
      "outputs": [
        {
          "output_type": "execute_result",
          "data": {
            "text/plain": [
              "tensor([[2., 1., 1.],\n",
              "        [1., 2., 1.],\n",
              "        [1., 1., 2.]])"
            ]
          },
          "metadata": {
            "tags": []
          },
          "execution_count": 24
        }
      ]
    },
    {
      "cell_type": "code",
      "metadata": {
        "id": "zhRKb5Z6tx80",
        "colab_type": "code",
        "colab": {}
      },
      "source": [
        "#nilai A berubah"
      ],
      "execution_count": 0,
      "outputs": []
    },
    {
      "cell_type": "code",
      "metadata": {
        "id": "2w9S24N9t0Wl",
        "colab_type": "code",
        "colab": {
          "base_uri": "https://localhost:8080/",
          "height": 68
        },
        "outputId": "e6e3f4ea-97d5-4a16-bd5d-8f8c10073282"
      },
      "source": [
        "A.mul(3)"
      ],
      "execution_count": 26,
      "outputs": [
        {
          "output_type": "execute_result",
          "data": {
            "text/plain": [
              "tensor([[6., 3., 3.],\n",
              "        [3., 6., 3.],\n",
              "        [3., 3., 6.]])"
            ]
          },
          "metadata": {
            "tags": []
          },
          "execution_count": 26
        }
      ]
    },
    {
      "cell_type": "code",
      "metadata": {
        "id": "Dl-ntsr7t4pf",
        "colab_type": "code",
        "colab": {
          "base_uri": "https://localhost:8080/",
          "height": 68
        },
        "outputId": "781bc155-43a1-4d80-8866-386775d0deb6"
      },
      "source": [
        "A"
      ],
      "execution_count": 27,
      "outputs": [
        {
          "output_type": "execute_result",
          "data": {
            "text/plain": [
              "tensor([[2., 1., 1.],\n",
              "        [1., 2., 1.],\n",
              "        [1., 1., 2.]])"
            ]
          },
          "metadata": {
            "tags": []
          },
          "execution_count": 27
        }
      ]
    },
    {
      "cell_type": "code",
      "metadata": {
        "id": "fkvHW4cXt5dz",
        "colab_type": "code",
        "colab": {
          "base_uri": "https://localhost:8080/",
          "height": 68
        },
        "outputId": "a5660af7-9171-4c45-a86d-0a0713e3d2c1"
      },
      "source": [
        "A.mul_(3)"
      ],
      "execution_count": 28,
      "outputs": [
        {
          "output_type": "execute_result",
          "data": {
            "text/plain": [
              "tensor([[6., 3., 3.],\n",
              "        [3., 6., 3.],\n",
              "        [3., 3., 6.]])"
            ]
          },
          "metadata": {
            "tags": []
          },
          "execution_count": 28
        }
      ]
    },
    {
      "cell_type": "code",
      "metadata": {
        "id": "yXQMa8mxt7cA",
        "colab_type": "code",
        "colab": {
          "base_uri": "https://localhost:8080/",
          "height": 68
        },
        "outputId": "bcdb34d0-9631-4fc8-9ff4-34d564bd33a1"
      },
      "source": [
        "A"
      ],
      "execution_count": 29,
      "outputs": [
        {
          "output_type": "execute_result",
          "data": {
            "text/plain": [
              "tensor([[6., 3., 3.],\n",
              "        [3., 6., 3.],\n",
              "        [3., 3., 6.]])"
            ]
          },
          "metadata": {
            "tags": []
          },
          "execution_count": 29
        }
      ]
    },
    {
      "cell_type": "markdown",
      "metadata": {
        "id": "f9w7Zctzt-od",
        "colab_type": "text"
      },
      "source": [
        "# Indexing"
      ]
    },
    {
      "cell_type": "code",
      "metadata": {
        "id": "csi1ilH5t8d5",
        "colab_type": "code",
        "colab": {
          "base_uri": "https://localhost:8080/",
          "height": 34
        },
        "outputId": "4f90b122-ff13-440f-f7f7-87999c785206"
      },
      "source": [
        "A[0,0]"
      ],
      "execution_count": 30,
      "outputs": [
        {
          "output_type": "execute_result",
          "data": {
            "text/plain": [
              "tensor(6.)"
            ]
          },
          "metadata": {
            "tags": []
          },
          "execution_count": 30
        }
      ]
    },
    {
      "cell_type": "code",
      "metadata": {
        "id": "mPB0lWqYuBdj",
        "colab_type": "code",
        "colab": {
          "base_uri": "https://localhost:8080/",
          "height": 34
        },
        "outputId": "d16fb84a-0141-450f-fc01-0299be8ab225"
      },
      "source": [
        "A[2]"
      ],
      "execution_count": 31,
      "outputs": [
        {
          "output_type": "execute_result",
          "data": {
            "text/plain": [
              "tensor([3., 3., 6.])"
            ]
          },
          "metadata": {
            "tags": []
          },
          "execution_count": 31
        }
      ]
    },
    {
      "cell_type": "code",
      "metadata": {
        "id": "2O8flRHVuCzr",
        "colab_type": "code",
        "colab": {
          "base_uri": "https://localhost:8080/",
          "height": 68
        },
        "outputId": "dc456096-5c52-4b3a-f438-55c071ce1ae1"
      },
      "source": [
        "A[:, 0:2]"
      ],
      "execution_count": 32,
      "outputs": [
        {
          "output_type": "execute_result",
          "data": {
            "text/plain": [
              "tensor([[6., 3.],\n",
              "        [3., 6.],\n",
              "        [3., 3.]])"
            ]
          },
          "metadata": {
            "tags": []
          },
          "execution_count": 32
        }
      ]
    },
    {
      "cell_type": "code",
      "metadata": {
        "id": "-HbE2J-zuFll",
        "colab_type": "code",
        "colab": {
          "base_uri": "https://localhost:8080/",
          "height": 34
        },
        "outputId": "ca003df2-ee4c-4a5c-e7ce-ff07b8fbdc63"
      },
      "source": [
        "A[1,:]"
      ],
      "execution_count": 33,
      "outputs": [
        {
          "output_type": "execute_result",
          "data": {
            "text/plain": [
              "tensor([3., 6., 3.])"
            ]
          },
          "metadata": {
            "tags": []
          },
          "execution_count": 33
        }
      ]
    },
    {
      "cell_type": "markdown",
      "metadata": {
        "id": "9WwjJ8K5uRBu",
        "colab_type": "text"
      },
      "source": [
        "# Converting"
      ]
    },
    {
      "cell_type": "code",
      "metadata": {
        "id": "UjReqwmduKFf",
        "colab_type": "code",
        "colab": {
          "base_uri": "https://localhost:8080/",
          "height": 68
        },
        "outputId": "6f7a91e9-b43a-4eef-9e6c-d7ee73b79687"
      },
      "source": [
        "A = torch.eye(3)\n",
        "A"
      ],
      "execution_count": 34,
      "outputs": [
        {
          "output_type": "execute_result",
          "data": {
            "text/plain": [
              "tensor([[1., 0., 0.],\n",
              "        [0., 1., 0.],\n",
              "        [0., 0., 1.]])"
            ]
          },
          "metadata": {
            "tags": []
          },
          "execution_count": 34
        }
      ]
    },
    {
      "cell_type": "code",
      "metadata": {
        "id": "hewIiASauU8s",
        "colab_type": "code",
        "colab": {
          "base_uri": "https://localhost:8080/",
          "height": 68
        },
        "outputId": "17ed3a56-cd32-460b-ace1-9028b86d7bd9"
      },
      "source": [
        "# mengubah torch ke numpy\n",
        "B = A.numpy()\n",
        "B"
      ],
      "execution_count": 35,
      "outputs": [
        {
          "output_type": "execute_result",
          "data": {
            "text/plain": [
              "array([[1., 0., 0.],\n",
              "       [0., 1., 0.],\n",
              "       [0., 0., 1.]], dtype=float32)"
            ]
          },
          "metadata": {
            "tags": []
          },
          "execution_count": 35
        }
      ]
    },
    {
      "cell_type": "code",
      "metadata": {
        "id": "JtIi9ZBSuYb1",
        "colab_type": "code",
        "colab": {}
      },
      "source": [
        "# Catatan: torch dan numpy dapat berbagi memory (zeroc-opy)"
      ],
      "execution_count": 0,
      "outputs": []
    },
    {
      "cell_type": "code",
      "metadata": {
        "id": "eG3HWor5uf_5",
        "colab_type": "code",
        "colab": {
          "base_uri": "https://localhost:8080/",
          "height": 68
        },
        "outputId": "a261231f-6d7a-49de-baeb-968cb7f40fde"
      },
      "source": [
        "A.add_(.5)"
      ],
      "execution_count": 37,
      "outputs": [
        {
          "output_type": "execute_result",
          "data": {
            "text/plain": [
              "tensor([[1.5000, 0.5000, 0.5000],\n",
              "        [0.5000, 1.5000, 0.5000],\n",
              "        [0.5000, 0.5000, 1.5000]])"
            ]
          },
          "metadata": {
            "tags": []
          },
          "execution_count": 37
        }
      ]
    },
    {
      "cell_type": "code",
      "metadata": {
        "id": "3YoASNHWuhpS",
        "colab_type": "code",
        "colab": {
          "base_uri": "https://localhost:8080/",
          "height": 68
        },
        "outputId": "e20c05ec-e576-4646-caa3-257a12b8d512"
      },
      "source": [
        "A"
      ],
      "execution_count": 38,
      "outputs": [
        {
          "output_type": "execute_result",
          "data": {
            "text/plain": [
              "tensor([[1.5000, 0.5000, 0.5000],\n",
              "        [0.5000, 1.5000, 0.5000],\n",
              "        [0.5000, 0.5000, 1.5000]])"
            ]
          },
          "metadata": {
            "tags": []
          },
          "execution_count": 38
        }
      ]
    },
    {
      "cell_type": "code",
      "metadata": {
        "id": "XNEiAddBuiQi",
        "colab_type": "code",
        "colab": {
          "base_uri": "https://localhost:8080/",
          "height": 68
        },
        "outputId": "406a9ec5-f837-4f36-e072-e5eaa3886b1e"
      },
      "source": [
        "B"
      ],
      "execution_count": 39,
      "outputs": [
        {
          "output_type": "execute_result",
          "data": {
            "text/plain": [
              "array([[1.5, 0.5, 0.5],\n",
              "       [0.5, 1.5, 0.5],\n",
              "       [0.5, 0.5, 1.5]], dtype=float32)"
            ]
          },
          "metadata": {
            "tags": []
          },
          "execution_count": 39
        }
      ]
    },
    {
      "cell_type": "code",
      "metadata": {
        "id": "uSR-6Vi8ui5i",
        "colab_type": "code",
        "colab": {}
      },
      "source": [
        "# Nilai A dan B sama"
      ],
      "execution_count": 0,
      "outputs": []
    },
    {
      "cell_type": "code",
      "metadata": {
        "id": "aBy1Q9Niuk5j",
        "colab_type": "code",
        "colab": {
          "base_uri": "https://localhost:8080/",
          "height": 68
        },
        "outputId": "a83c840f-5590-47b8-ef90-f7d6e32ff2c2"
      },
      "source": [
        "# mengubah numpy ke torch\n",
        "torch.from_numpy(np.eye(3))"
      ],
      "execution_count": 41,
      "outputs": [
        {
          "output_type": "execute_result",
          "data": {
            "text/plain": [
              "tensor([[1., 0., 0.],\n",
              "        [0., 1., 0.],\n",
              "        [0., 0., 1.]], dtype=torch.float64)"
            ]
          },
          "metadata": {
            "tags": []
          },
          "execution_count": 41
        }
      ]
    },
    {
      "cell_type": "markdown",
      "metadata": {
        "id": "fIvG_PvcvB-V",
        "colab_type": "text"
      },
      "source": [
        "# Lanjutan"
      ]
    },
    {
      "cell_type": "code",
      "metadata": {
        "id": "x5w5JeMeuqbt",
        "colab_type": "code",
        "colab": {
          "base_uri": "https://localhost:8080/",
          "height": 9486
        },
        "outputId": "52229673-1a9d-4edf-aef8-cc1523242b99"
      },
      "source": [
        "# mengetahui fungsi (?) yang ada di torch\n",
        "[o for o in dir(torch) if not o.startswith(\"_\")]"
      ],
      "execution_count": 44,
      "outputs": [
        {
          "output_type": "execute_result",
          "data": {
            "text/plain": [
              "['AVG',\n",
              " 'AggregationType',\n",
              " 'Argument',\n",
              " 'ArgumentSpec',\n",
              " 'Block',\n",
              " 'BoolStorage',\n",
              " 'BoolTensor',\n",
              " 'BoolType',\n",
              " 'ByteStorage',\n",
              " 'ByteTensor',\n",
              " 'CharStorage',\n",
              " 'CharTensor',\n",
              " 'Code',\n",
              " 'CompilationUnit',\n",
              " 'CompleteArgumentSpec',\n",
              " 'CudaBoolStorageBase',\n",
              " 'CudaByteStorageBase',\n",
              " 'CudaCharStorageBase',\n",
              " 'CudaDoubleStorageBase',\n",
              " 'CudaFloatStorageBase',\n",
              " 'CudaHalfStorageBase',\n",
              " 'CudaIntStorageBase',\n",
              " 'CudaLongStorageBase',\n",
              " 'CudaShortStorageBase',\n",
              " 'DictType',\n",
              " 'DoubleStorage',\n",
              " 'DoubleTensor',\n",
              " 'ExecutionPlanState',\n",
              " 'ExtraFilesMap',\n",
              " 'FatalError',\n",
              " 'FileCheck',\n",
              " 'FloatStorage',\n",
              " 'FloatTensor',\n",
              " 'FloatType',\n",
              " 'Function',\n",
              " 'FunctionSchema',\n",
              " 'Future',\n",
              " 'Generator',\n",
              " 'Gradient',\n",
              " 'Graph',\n",
              " 'GraphExecutorState',\n",
              " 'HalfStorage',\n",
              " 'HalfStorageBase',\n",
              " 'HalfTensor',\n",
              " 'IODescriptor',\n",
              " 'IntStorage',\n",
              " 'IntTensor',\n",
              " 'IntType',\n",
              " 'JITException',\n",
              " 'ListType',\n",
              " 'LockingLogger',\n",
              " 'LoggerBase',\n",
              " 'LongStorage',\n",
              " 'LongTensor',\n",
              " 'Node',\n",
              " 'NoopLogger',\n",
              " 'NumberType',\n",
              " 'OptionalType',\n",
              " 'PyTorchFileReader',\n",
              " 'PyTorchFileWriter',\n",
              " 'SUM',\n",
              " 'ScriptMethod',\n",
              " 'ScriptModule',\n",
              " 'ShortStorage',\n",
              " 'ShortTensor',\n",
              " 'Size',\n",
              " 'Storage',\n",
              " 'StringType',\n",
              " 'Tensor',\n",
              " 'TensorType',\n",
              " 'TracingState',\n",
              " 'TupleType',\n",
              " 'Type',\n",
              " 'Use',\n",
              " 'Value',\n",
              " 'abs',\n",
              " 'abs_',\n",
              " 'acos',\n",
              " 'acos_',\n",
              " 'adaptive_avg_pool1d',\n",
              " 'adaptive_max_pool1d',\n",
              " 'add',\n",
              " 'addbmm',\n",
              " 'addcdiv',\n",
              " 'addcmul',\n",
              " 'addmm',\n",
              " 'addmv',\n",
              " 'addmv_',\n",
              " 'addr',\n",
              " 'affine_grid_generator',\n",
              " 'all',\n",
              " 'allclose',\n",
              " 'alpha_dropout',\n",
              " 'alpha_dropout_',\n",
              " 'any',\n",
              " 'arange',\n",
              " 'argmax',\n",
              " 'argmin',\n",
              " 'argsort',\n",
              " 'as_strided',\n",
              " 'as_strided_',\n",
              " 'as_tensor',\n",
              " 'asin',\n",
              " 'asin_',\n",
              " 'atan',\n",
              " 'atan2',\n",
              " 'atan_',\n",
              " 'autograd',\n",
              " 'avg_pool1d',\n",
              " 'backends',\n",
              " 'baddbmm',\n",
              " 'bartlett_window',\n",
              " 'batch_norm',\n",
              " 'batch_norm_backward_elemt',\n",
              " 'batch_norm_backward_reduce',\n",
              " 'batch_norm_elemt',\n",
              " 'batch_norm_gather_stats',\n",
              " 'batch_norm_stats',\n",
              " 'batch_norm_update_stats',\n",
              " 'bernoulli',\n",
              " 'bilinear',\n",
              " 'binary_cross_entropy_with_logits',\n",
              " 'bincount',\n",
              " 'blackman_window',\n",
              " 'bmm',\n",
              " 'bool',\n",
              " 'broadcast_tensors',\n",
              " 'btrifact',\n",
              " 'btrifact_with_info',\n",
              " 'btrisolve',\n",
              " 'btriunpack',\n",
              " 'cartesian_prod',\n",
              " 'cat',\n",
              " 'cdist',\n",
              " 'ceil',\n",
              " 'ceil_',\n",
              " 'celu',\n",
              " 'celu_',\n",
              " 'chain_matmul',\n",
              " 'cholesky',\n",
              " 'cholesky_inverse',\n",
              " 'cholesky_solve',\n",
              " 'chunk',\n",
              " 'clamp',\n",
              " 'clamp_',\n",
              " 'clamp_max',\n",
              " 'clamp_max_',\n",
              " 'clamp_min',\n",
              " 'clamp_min_',\n",
              " 'clone',\n",
              " 'combinations',\n",
              " 'compiled_with_cxx11_abi',\n",
              " 'complex128',\n",
              " 'complex32',\n",
              " 'complex64',\n",
              " 'constant_pad_nd',\n",
              " 'conv1d',\n",
              " 'conv2d',\n",
              " 'conv3d',\n",
              " 'conv_tbc',\n",
              " 'conv_transpose1d',\n",
              " 'conv_transpose2d',\n",
              " 'conv_transpose3d',\n",
              " 'convolution',\n",
              " 'cos',\n",
              " 'cos_',\n",
              " 'cosh',\n",
              " 'cosh_',\n",
              " 'cosine_embedding_loss',\n",
              " 'cosine_similarity',\n",
              " 'cpp',\n",
              " 'cross',\n",
              " 'ctc_loss',\n",
              " 'cuda',\n",
              " 'cudnn_affine_grid_generator',\n",
              " 'cudnn_batch_norm',\n",
              " 'cudnn_convolution',\n",
              " 'cudnn_convolution_transpose',\n",
              " 'cudnn_grid_sampler',\n",
              " 'cudnn_is_acceptable',\n",
              " 'cumprod',\n",
              " 'cumsum',\n",
              " 'default_generator',\n",
              " 'dequantize',\n",
              " 'det',\n",
              " 'detach',\n",
              " 'detach_',\n",
              " 'device',\n",
              " 'diag',\n",
              " 'diag_embed',\n",
              " 'diagflat',\n",
              " 'diagonal',\n",
              " 'digamma',\n",
              " 'dist',\n",
              " 'distributed',\n",
              " 'distributions',\n",
              " 'div',\n",
              " 'dot',\n",
              " 'double',\n",
              " 'dropout',\n",
              " 'dropout_',\n",
              " 'dsmm',\n",
              " 'dtype',\n",
              " 'eig',\n",
              " 'einsum',\n",
              " 'embedding',\n",
              " 'embedding_bag',\n",
              " 'embedding_renorm_',\n",
              " 'empty',\n",
              " 'empty_like',\n",
              " 'empty_strided',\n",
              " 'enable_grad',\n",
              " 'eq',\n",
              " 'equal',\n",
              " 'erf',\n",
              " 'erf_',\n",
              " 'erfc',\n",
              " 'erfc_',\n",
              " 'erfinv',\n",
              " 'exp',\n",
              " 'exp_',\n",
              " 'expm1',\n",
              " 'expm1_',\n",
              " 'eye',\n",
              " 'fbgemm_is_cpu_supported',\n",
              " 'fbgemm_linear_int8_weight',\n",
              " 'fbgemm_linear_quantize_weight',\n",
              " 'fbgemm_pack_quantized_matrix',\n",
              " 'feature_alpha_dropout',\n",
              " 'feature_alpha_dropout_',\n",
              " 'feature_dropout',\n",
              " 'feature_dropout_',\n",
              " 'fft',\n",
              " 'fill_',\n",
              " 'finfo',\n",
              " 'flatten',\n",
              " 'flip',\n",
              " 'float',\n",
              " 'float16',\n",
              " 'float32',\n",
              " 'float64',\n",
              " 'floor',\n",
              " 'floor_',\n",
              " 'fmod',\n",
              " 'fork',\n",
              " 'frac',\n",
              " 'frac_',\n",
              " 'frobenius_norm',\n",
              " 'from_file',\n",
              " 'from_numpy',\n",
              " 'full',\n",
              " 'full_like',\n",
              " 'functional',\n",
              " 'gather',\n",
              " 'ge',\n",
              " 'gels',\n",
              " 'geqrf',\n",
              " 'ger',\n",
              " 'gesv',\n",
              " 'get_default_dtype',\n",
              " 'get_device',\n",
              " 'get_file_path',\n",
              " 'get_num_threads',\n",
              " 'get_rng_state',\n",
              " 'grid_sampler',\n",
              " 'grid_sampler_2d',\n",
              " 'grid_sampler_3d',\n",
              " 'group_norm',\n",
              " 'gru',\n",
              " 'gru_cell',\n",
              " 'gt',\n",
              " 'half',\n",
              " 'hamming_window',\n",
              " 'hann_window',\n",
              " 'hardshrink',\n",
              " 'has_cuda',\n",
              " 'has_cudnn',\n",
              " 'has_lapack',\n",
              " 'has_mkl',\n",
              " 'has_mkldnn',\n",
              " 'has_openmp',\n",
              " 'hinge_embedding_loss',\n",
              " 'histc',\n",
              " 'hsmm',\n",
              " 'hspmm',\n",
              " 'hub',\n",
              " 'ifft',\n",
              " 'iinfo',\n",
              " 'import_ir_module',\n",
              " 'import_ir_module_from_buffer',\n",
              " 'index_add',\n",
              " 'index_copy',\n",
              " 'index_fill',\n",
              " 'index_put',\n",
              " 'index_put_',\n",
              " 'index_select',\n",
              " 'initial_seed',\n",
              " 'instance_norm',\n",
              " 'int',\n",
              " 'int16',\n",
              " 'int32',\n",
              " 'int64',\n",
              " 'int8',\n",
              " 'int_repr',\n",
              " 'inverse',\n",
              " 'irfft',\n",
              " 'is_anomaly_enabled',\n",
              " 'is_complex',\n",
              " 'is_distributed',\n",
              " 'is_floating_point',\n",
              " 'is_grad_enabled',\n",
              " 'is_nonzero',\n",
              " 'is_same_size',\n",
              " 'is_signed',\n",
              " 'is_storage',\n",
              " 'is_tensor',\n",
              " 'isclose',\n",
              " 'isfinite',\n",
              " 'isinf',\n",
              " 'isnan',\n",
              " 'jit',\n",
              " 'kl_div',\n",
              " 'kthvalue',\n",
              " 'layer_norm',\n",
              " 'layout',\n",
              " 'le',\n",
              " 'lerp',\n",
              " 'lgamma',\n",
              " 'linspace',\n",
              " 'load',\n",
              " 'log',\n",
              " 'log10',\n",
              " 'log10_',\n",
              " 'log1p',\n",
              " 'log1p_',\n",
              " 'log2',\n",
              " 'log2_',\n",
              " 'log_',\n",
              " 'log_softmax',\n",
              " 'logdet',\n",
              " 'logspace',\n",
              " 'logsumexp',\n",
              " 'long',\n",
              " 'lstm',\n",
              " 'lstm_cell',\n",
              " 'lt',\n",
              " 'lu',\n",
              " 'lu_solve',\n",
              " 'lu_unpack',\n",
              " 'manual_seed',\n",
              " 'margin_ranking_loss',\n",
              " 'masked_fill',\n",
              " 'masked_scatter',\n",
              " 'masked_select',\n",
              " 'matmul',\n",
              " 'matrix_power',\n",
              " 'matrix_rank',\n",
              " 'max',\n",
              " 'max_pool1d',\n",
              " 'max_pool1d_with_indices',\n",
              " 'max_pool2d',\n",
              " 'max_pool3d',\n",
              " 'mean',\n",
              " 'median',\n",
              " 'merge_type_from_type_comment',\n",
              " 'meshgrid',\n",
              " 'min',\n",
              " 'miopen_batch_norm',\n",
              " 'miopen_convolution',\n",
              " 'miopen_convolution_transpose',\n",
              " 'miopen_depthwise_convolution',\n",
              " 'mkldnn_convolution',\n",
              " 'mkldnn_convolution_backward_weights',\n",
              " 'mkldnn_max_pool2d',\n",
              " 'mkldnn_reshape',\n",
              " 'mm',\n",
              " 'mode',\n",
              " 'mul',\n",
              " 'multinomial',\n",
              " 'multiprocessing',\n",
              " 'mv',\n",
              " 'mvlgamma',\n",
              " 'name',\n",
              " 'narrow',\n",
              " 'native_batch_norm',\n",
              " 'native_norm',\n",
              " 'ne',\n",
              " 'neg',\n",
              " 'neg_',\n",
              " 'nn',\n",
              " 'no_grad',\n",
              " 'nonzero',\n",
              " 'norm',\n",
              " 'norm_except_dim',\n",
              " 'normal',\n",
              " 'nuclear_norm',\n",
              " 'numel',\n",
              " 'ones',\n",
              " 'ones_like',\n",
              " 'onnx',\n",
              " 'ops',\n",
              " 'optim',\n",
              " 'orgqr',\n",
              " 'ormqr',\n",
              " 'os',\n",
              " 'pairwise_distance',\n",
              " 'parse_ir',\n",
              " 'parse_type_comment',\n",
              " 'pdist',\n",
              " 'pin_memory',\n",
              " 'pinverse',\n",
              " 'pixel_shuffle',\n",
              " 'platform',\n",
              " 'poisson',\n",
              " 'polygamma',\n",
              " 'potrf',\n",
              " 'potri',\n",
              " 'potrs',\n",
              " 'pow',\n",
              " 'prelu',\n",
              " 'prepare_multiprocessing_environment',\n",
              " 'prod',\n",
              " 'pstrf',\n",
              " 'q_scale',\n",
              " 'q_zero_point',\n",
              " 'qint8',\n",
              " 'qr',\n",
              " 'quantize_linear',\n",
              " 'quantized_gru_cell',\n",
              " 'quantized_lstm',\n",
              " 'quantized_lstm_cell',\n",
              " 'quantized_rnn_relu_cell',\n",
              " 'quantized_rnn_tanh_cell',\n",
              " 'quasirandom',\n",
              " 'rand',\n",
              " 'rand_like',\n",
              " 'randint',\n",
              " 'randint_like',\n",
              " 'randn',\n",
              " 'randn_like',\n",
              " 'random',\n",
              " 'randperm',\n",
              " 'range',\n",
              " 'reciprocal',\n",
              " 'reciprocal_',\n",
              " 'relu',\n",
              " 'relu_',\n",
              " 'remainder',\n",
              " 'renorm',\n",
              " 'repeat_interleave',\n",
              " 'reshape',\n",
              " 'resize_as_',\n",
              " 'rfft',\n",
              " 'rnn_relu',\n",
              " 'rnn_relu_cell',\n",
              " 'rnn_tanh',\n",
              " 'rnn_tanh_cell',\n",
              " 'roll',\n",
              " 'rot90',\n",
              " 'round',\n",
              " 'round_',\n",
              " 'rrelu',\n",
              " 'rrelu_',\n",
              " 'rsqrt',\n",
              " 'rsqrt_',\n",
              " 'rsub',\n",
              " 's_copy_',\n",
              " 's_native_addmm',\n",
              " 's_native_addmm_',\n",
              " 'saddmm',\n",
              " 'save',\n",
              " 'scalar_tensor',\n",
              " 'scatter',\n",
              " 'scatter_add',\n",
              " 'select',\n",
              " 'selu',\n",
              " 'selu_',\n",
              " 'serialization',\n",
              " 'set_anomaly_enabled',\n",
              " 'set_default_dtype',\n",
              " 'set_default_tensor_type',\n",
              " 'set_flush_denormal',\n",
              " 'set_grad_enabled',\n",
              " 'set_num_threads',\n",
              " 'set_printoptions',\n",
              " 'set_rng_state',\n",
              " 'short',\n",
              " 'sigmoid',\n",
              " 'sigmoid_',\n",
              " 'sign',\n",
              " 'sin',\n",
              " 'sin_',\n",
              " 'sinh',\n",
              " 'sinh_',\n",
              " 'slogdet',\n",
              " 'smm',\n",
              " 'softmax',\n",
              " 'solve',\n",
              " 'sort',\n",
              " 'sparse',\n",
              " 'sparse_coo',\n",
              " 'sparse_coo_tensor',\n",
              " 'split',\n",
              " 'split_with_sizes',\n",
              " 'spmm',\n",
              " 'sqrt',\n",
              " 'sqrt_',\n",
              " 'squeeze',\n",
              " 'sspaddmm',\n",
              " 'stack',\n",
              " 'std',\n",
              " 'stft',\n",
              " 'storage',\n",
              " 'strided',\n",
              " 'sub',\n",
              " 'sum',\n",
              " 'svd',\n",
              " 'symeig',\n",
              " 'sys',\n",
              " 't',\n",
              " 'take',\n",
              " 'tan',\n",
              " 'tan_',\n",
              " 'tanh',\n",
              " 'tanh_',\n",
              " 'tensor',\n",
              " 'tensordot',\n",
              " 'testing',\n",
              " 'threshold',\n",
              " 'threshold_',\n",
              " 'topk',\n",
              " 'torch',\n",
              " 'trace',\n",
              " 'transpose',\n",
              " 'triangular_solve',\n",
              " 'tril',\n",
              " 'tril_indices',\n",
              " 'triplet_margin_loss',\n",
              " 'triu',\n",
              " 'triu_indices',\n",
              " 'trtrs',\n",
              " 'trunc',\n",
              " 'trunc_',\n",
              " 'typename',\n",
              " 'uint8',\n",
              " 'unbind',\n",
              " 'unique',\n",
              " 'unique_consecutive',\n",
              " 'unsqueeze',\n",
              " 'utils',\n",
              " 'var',\n",
              " 'version',\n",
              " 'wait',\n",
              " 'where',\n",
              " 'zero_',\n",
              " 'zeros',\n",
              " 'zeros_like']"
            ]
          },
          "metadata": {
            "tags": []
          },
          "execution_count": 44
        }
      ]
    },
    {
      "cell_type": "code",
      "metadata": {
        "id": "wK_apobou0OC",
        "colab_type": "code",
        "colab": {
          "base_uri": "https://localhost:8080/",
          "height": 1530
        },
        "outputId": "8ef4daaa-c3fe-4721-f798-753c3bce2eb8"
      },
      "source": [
        "[o for o in dir(torch) if o.startswith(\"_\")]"
      ],
      "execution_count": 43,
      "outputs": [
        {
          "output_type": "execute_result",
          "data": {
            "text/plain": [
              "['_C',\n",
              " '_StorageBase',\n",
              " '__all__',\n",
              " '__builtins__',\n",
              " '__cached__',\n",
              " '__config__',\n",
              " '__doc__',\n",
              " '__file__',\n",
              " '__loader__',\n",
              " '__name__',\n",
              " '__package__',\n",
              " '__path__',\n",
              " '__spec__',\n",
              " '__version__',\n",
              " '_adaptive_avg_pool2d',\n",
              " '_baddbmm_mkl_',\n",
              " '_batch_norm_impl_index',\n",
              " '_cast_Byte',\n",
              " '_cast_Char',\n",
              " '_cast_Double',\n",
              " '_cast_Float',\n",
              " '_cast_Half',\n",
              " '_cast_Int',\n",
              " '_cast_Long',\n",
              " '_cast_Short',\n",
              " '_convolution',\n",
              " '_convolution_nogroup',\n",
              " '_copy_same_type_',\n",
              " '_ctc_loss',\n",
              " '_cudnn_ctc_loss',\n",
              " '_cudnn_init_dropout_state',\n",
              " '_cudnn_rnn',\n",
              " '_cudnn_rnn_flatten_weight',\n",
              " '_cufft_clear_plan_cache',\n",
              " '_cufft_get_plan_cache_max_size',\n",
              " '_cufft_get_plan_cache_size',\n",
              " '_cufft_set_plan_cache_max_size',\n",
              " '_debug_has_internal_overlap',\n",
              " '_dim_arange',\n",
              " '_dirichlet_grad',\n",
              " '_embedding_bag',\n",
              " '_empty_affine_quantized',\n",
              " '_fft_with_size',\n",
              " '_fused_dropout',\n",
              " '_import_dotted_name',\n",
              " '_jit_internal',\n",
              " '_log_softmax',\n",
              " '_log_softmax_backward_data',\n",
              " '_lu_with_info',\n",
              " '_masked_scale',\n",
              " '_mkldnn',\n",
              " '_multinomial_alias_draw',\n",
              " '_multinomial_alias_setup',\n",
              " '_nnpack_available',\n",
              " '_nnpack_spatial_convolution',\n",
              " '_np',\n",
              " '_ops',\n",
              " '_pack_padded_sequence',\n",
              " '_pad_packed_sequence',\n",
              " '_promote_types',\n",
              " '_reshape_from_tensor',\n",
              " '_s_copy_from',\n",
              " '_s_where',\n",
              " '_sample_dirichlet',\n",
              " '_shape_as_tensor',\n",
              " '_six',\n",
              " '_sobol_engine_draw',\n",
              " '_sobol_engine_ff_',\n",
              " '_sobol_engine_initialize_state_',\n",
              " '_sobol_engine_scramble_',\n",
              " '_softmax',\n",
              " '_softmax_backward_data',\n",
              " '_sparse_addmm',\n",
              " '_sparse_mm',\n",
              " '_sparse_sum',\n",
              " '_standard_gamma',\n",
              " '_standard_gamma_grad',\n",
              " '_storage_classes',\n",
              " '_string_classes',\n",
              " '_tensor_classes',\n",
              " '_tensor_str',\n",
              " '_thnn',\n",
              " '_trilinear',\n",
              " '_unique',\n",
              " '_unique2',\n",
              " '_utils',\n",
              " '_utils_internal',\n",
              " '_weight_norm',\n",
              " '_weight_norm_cuda_interface']"
            ]
          },
          "metadata": {
            "tags": []
          },
          "execution_count": 43
        }
      ]
    },
    {
      "cell_type": "markdown",
      "metadata": {
        "id": "2iOVE3DgvW5W",
        "colab_type": "text"
      },
      "source": [
        "# Menggunakan GPU"
      ]
    },
    {
      "cell_type": "code",
      "metadata": {
        "id": "tJSloo0Su9F2",
        "colab_type": "code",
        "colab": {}
      },
      "source": [
        "device = torch.device(\"cuda:0\" if torch.cuda.is_available() else \"cpu\")"
      ],
      "execution_count": 0,
      "outputs": []
    },
    {
      "cell_type": "code",
      "metadata": {
        "id": "CX1EPFlcvguC",
        "colab_type": "code",
        "colab": {
          "base_uri": "https://localhost:8080/",
          "height": 34
        },
        "outputId": "dbddaae7-d657-415f-8e98-21e2d62a227a"
      },
      "source": [
        "device"
      ],
      "execution_count": 46,
      "outputs": [
        {
          "output_type": "execute_result",
          "data": {
            "text/plain": [
              "device(type='cuda', index=0)"
            ]
          },
          "metadata": {
            "tags": []
          },
          "execution_count": 46
        }
      ]
    },
    {
      "cell_type": "code",
      "metadata": {
        "id": "JoYPtIahvjFT",
        "colab_type": "code",
        "colab": {}
      },
      "source": [
        "# artinya ada GPU dan sudah diaktifkan di google colab ini"
      ],
      "execution_count": 0,
      "outputs": []
    },
    {
      "cell_type": "code",
      "metadata": {
        "id": "2bR49lAAvoV1",
        "colab_type": "code",
        "colab": {
          "base_uri": "https://localhost:8080/",
          "height": 68
        },
        "outputId": "bcc3c48d-ff38-42fa-a1fd-47e3822b9dfe"
      },
      "source": [
        "data = torch.eye(3)\n",
        "# proses data ke GPU\n",
        "data.to(device)"
      ],
      "execution_count": 48,
      "outputs": [
        {
          "output_type": "execute_result",
          "data": {
            "text/plain": [
              "tensor([[1., 0., 0.],\n",
              "        [0., 1., 0.],\n",
              "        [0., 0., 1.]], device='cuda:0')"
            ]
          },
          "metadata": {
            "tags": []
          },
          "execution_count": 48
        }
      ]
    },
    {
      "cell_type": "code",
      "metadata": {
        "id": "IcoU-ZOVvv4R",
        "colab_type": "code",
        "colab": {}
      },
      "source": [
        "res = data + data"
      ],
      "execution_count": 0,
      "outputs": []
    },
    {
      "cell_type": "code",
      "metadata": {
        "id": "xlfqoiP8vz3L",
        "colab_type": "code",
        "colab": {
          "base_uri": "https://localhost:8080/",
          "height": 68
        },
        "outputId": "e9afb7d1-cabe-45d4-de25-019c25e4e8d7"
      },
      "source": [
        "res"
      ],
      "execution_count": 50,
      "outputs": [
        {
          "output_type": "execute_result",
          "data": {
            "text/plain": [
              "tensor([[2., 0., 0.],\n",
              "        [0., 2., 0.],\n",
              "        [0., 0., 2.]])"
            ]
          },
          "metadata": {
            "tags": []
          },
          "execution_count": 50
        }
      ]
    },
    {
      "cell_type": "code",
      "metadata": {
        "id": "Ukhcs0eyv1A7",
        "colab_type": "code",
        "colab": {
          "base_uri": "https://localhost:8080/",
          "height": 34
        },
        "outputId": "c3a0bc73-ce47-48ff-bea2-b47c84f41e7e"
      },
      "source": [
        "res.device"
      ],
      "execution_count": 51,
      "outputs": [
        {
          "output_type": "execute_result",
          "data": {
            "text/plain": [
              "device(type='cpu')"
            ]
          },
          "metadata": {
            "tags": []
          },
          "execution_count": 51
        }
      ]
    },
    {
      "cell_type": "code",
      "metadata": {
        "id": "twEh6CgEv2K0",
        "colab_type": "code",
        "colab": {
          "base_uri": "https://localhost:8080/",
          "height": 68
        },
        "outputId": "fe2c354f-bc68-4265-879f-cb3035d8dafc"
      },
      "source": [
        "res.to(device)"
      ],
      "execution_count": 53,
      "outputs": [
        {
          "output_type": "execute_result",
          "data": {
            "text/plain": [
              "tensor([[2., 0., 0.],\n",
              "        [0., 2., 0.],\n",
              "        [0., 0., 2.]], device='cuda:0')"
            ]
          },
          "metadata": {
            "tags": []
          },
          "execution_count": 53
        }
      ]
    },
    {
      "cell_type": "code",
      "metadata": {
        "id": "w8DcwRJYv5-h",
        "colab_type": "code",
        "colab": {}
      },
      "source": [
        ""
      ],
      "execution_count": 0,
      "outputs": []
    },
    {
      "cell_type": "markdown",
      "metadata": {
        "id": "bvmijdMZwDKi",
        "colab_type": "text"
      },
      "source": [
        "# Autograd = Differention --> Turunan"
      ]
    },
    {
      "cell_type": "code",
      "metadata": {
        "id": "s5aGWZ7IwG07",
        "colab_type": "code",
        "colab": {}
      },
      "source": [
        "from torch import autograd"
      ],
      "execution_count": 0,
      "outputs": []
    },
    {
      "cell_type": "code",
      "metadata": {
        "id": "LRIhqNIWwJf1",
        "colab_type": "code",
        "colab": {}
      },
      "source": [
        "x = torch.tensor(2)"
      ],
      "execution_count": 0,
      "outputs": []
    },
    {
      "cell_type": "code",
      "metadata": {
        "id": "1U0cnBRYwL-R",
        "colab_type": "code",
        "colab": {
          "base_uri": "https://localhost:8080/",
          "height": 34
        },
        "outputId": "d9716dfb-acda-42db-f798-45f82d8165f7"
      },
      "source": [
        "x.type"
      ],
      "execution_count": 63,
      "outputs": [
        {
          "output_type": "execute_result",
          "data": {
            "text/plain": [
              "<function Tensor.type>"
            ]
          },
          "metadata": {
            "tags": []
          },
          "execution_count": 63
        }
      ]
    },
    {
      "cell_type": "code",
      "metadata": {
        "id": "JoIwAvDzwM3G",
        "colab_type": "code",
        "colab": {}
      },
      "source": [
        "x = torch.tensor(2., requires_grad=True)"
      ],
      "execution_count": 0,
      "outputs": []
    },
    {
      "cell_type": "code",
      "metadata": {
        "id": "409PFBjVwf1i",
        "colab_type": "code",
        "colab": {
          "base_uri": "https://localhost:8080/",
          "height": 34
        },
        "outputId": "6bd092d0-a6de-4e1a-de78-a270a11d1f28"
      },
      "source": [
        "x"
      ],
      "execution_count": 65,
      "outputs": [
        {
          "output_type": "execute_result",
          "data": {
            "text/plain": [
              "tensor(2., requires_grad=True)"
            ]
          },
          "metadata": {
            "tags": []
          },
          "execution_count": 65
        }
      ]
    },
    {
      "cell_type": "code",
      "metadata": {
        "id": "dOSXRh4fwgRi",
        "colab_type": "code",
        "colab": {
          "base_uri": "https://localhost:8080/",
          "height": 34
        },
        "outputId": "73f231c3-d182-4a5b-a2ab-592e1c95bc08"
      },
      "source": [
        "print(x.requires_grad)"
      ],
      "execution_count": 66,
      "outputs": [
        {
          "output_type": "stream",
          "text": [
            "True\n"
          ],
          "name": "stdout"
        }
      ]
    },
    {
      "cell_type": "code",
      "metadata": {
        "id": "7Vg_dxyCwj1k",
        "colab_type": "code",
        "colab": {
          "base_uri": "https://localhost:8080/",
          "height": 34
        },
        "outputId": "1ae7830a-6cfa-4ce7-c22b-d39f7baaac0e"
      },
      "source": [
        "print(x.grad)"
      ],
      "execution_count": 67,
      "outputs": [
        {
          "output_type": "stream",
          "text": [
            "None\n"
          ],
          "name": "stdout"
        }
      ]
    },
    {
      "cell_type": "code",
      "metadata": {
        "id": "9SeyUmTmwmnu",
        "colab_type": "code",
        "colab": {
          "base_uri": "https://localhost:8080/",
          "height": 34
        },
        "outputId": "f93eee5e-82d5-4b78-eea0-c043ac8ceeb7"
      },
      "source": [
        "y = x ** 2\n",
        "print(\"Grad of x:\", x.grad)"
      ],
      "execution_count": 70,
      "outputs": [
        {
          "output_type": "stream",
          "text": [
            "Grad of x: None\n"
          ],
          "name": "stdout"
        }
      ]
    },
    {
      "cell_type": "code",
      "metadata": {
        "id": "nfHjtOSmwpvP",
        "colab_type": "code",
        "colab": {
          "base_uri": "https://localhost:8080/",
          "height": 34
        },
        "outputId": "c1c1abbe-d9e4-45b5-c791-8239f1e49fab"
      },
      "source": [
        "y = x ** 2\n",
        "y.backward()\n",
        "print(\"Grad of x:\", x.grad)"
      ],
      "execution_count": 71,
      "outputs": [
        {
          "output_type": "stream",
          "text": [
            "Grad of x: tensor(4.)\n"
          ],
          "name": "stdout"
        }
      ]
    },
    {
      "cell_type": "code",
      "metadata": {
        "id": "-eoIT7wQwu55",
        "colab_type": "code",
        "colab": {
          "base_uri": "https://localhost:8080/",
          "height": 323
        },
        "outputId": "c26b86e9-3a39-4cfd-848d-b7870113b71c"
      },
      "source": [
        "x = torch.tensor(2.)\n",
        "x.backward()"
      ],
      "execution_count": 72,
      "outputs": [
        {
          "output_type": "error",
          "ename": "RuntimeError",
          "evalue": "ignored",
          "traceback": [
            "\u001b[0;31m---------------------------------------------------------------------------\u001b[0m",
            "\u001b[0;31mRuntimeError\u001b[0m                              Traceback (most recent call last)",
            "\u001b[0;32m<ipython-input-72-2063c779a0cf>\u001b[0m in \u001b[0;36m<module>\u001b[0;34m()\u001b[0m\n\u001b[1;32m      1\u001b[0m \u001b[0mx\u001b[0m \u001b[0;34m=\u001b[0m \u001b[0mtorch\u001b[0m\u001b[0;34m.\u001b[0m\u001b[0mtensor\u001b[0m\u001b[0;34m(\u001b[0m\u001b[0;36m2.\u001b[0m\u001b[0;34m)\u001b[0m\u001b[0;34m\u001b[0m\u001b[0;34m\u001b[0m\u001b[0m\n\u001b[0;32m----> 2\u001b[0;31m \u001b[0mx\u001b[0m\u001b[0;34m.\u001b[0m\u001b[0mbackward\u001b[0m\u001b[0;34m(\u001b[0m\u001b[0;34m)\u001b[0m\u001b[0;34m\u001b[0m\u001b[0;34m\u001b[0m\u001b[0m\n\u001b[0m",
            "\u001b[0;32m/usr/local/lib/python3.6/dist-packages/torch/tensor.py\u001b[0m in \u001b[0;36mbackward\u001b[0;34m(self, gradient, retain_graph, create_graph)\u001b[0m\n\u001b[1;32m    105\u001b[0m                 \u001b[0mproducts\u001b[0m\u001b[0;34m.\u001b[0m \u001b[0mDefaults\u001b[0m \u001b[0mto\u001b[0m\u001b[0;31m \u001b[0m\u001b[0;31m`\u001b[0m\u001b[0;31m`\u001b[0m\u001b[0;32mFalse\u001b[0m\u001b[0;31m`\u001b[0m\u001b[0;31m`\u001b[0m\u001b[0;34m.\u001b[0m\u001b[0;34m\u001b[0m\u001b[0;34m\u001b[0m\u001b[0m\n\u001b[1;32m    106\u001b[0m         \"\"\"\n\u001b[0;32m--> 107\u001b[0;31m         \u001b[0mtorch\u001b[0m\u001b[0;34m.\u001b[0m\u001b[0mautograd\u001b[0m\u001b[0;34m.\u001b[0m\u001b[0mbackward\u001b[0m\u001b[0;34m(\u001b[0m\u001b[0mself\u001b[0m\u001b[0;34m,\u001b[0m \u001b[0mgradient\u001b[0m\u001b[0;34m,\u001b[0m \u001b[0mretain_graph\u001b[0m\u001b[0;34m,\u001b[0m \u001b[0mcreate_graph\u001b[0m\u001b[0;34m)\u001b[0m\u001b[0;34m\u001b[0m\u001b[0;34m\u001b[0m\u001b[0m\n\u001b[0m\u001b[1;32m    108\u001b[0m \u001b[0;34m\u001b[0m\u001b[0m\n\u001b[1;32m    109\u001b[0m     \u001b[0;32mdef\u001b[0m \u001b[0mregister_hook\u001b[0m\u001b[0;34m(\u001b[0m\u001b[0mself\u001b[0m\u001b[0;34m,\u001b[0m \u001b[0mhook\u001b[0m\u001b[0;34m)\u001b[0m\u001b[0;34m:\u001b[0m\u001b[0;34m\u001b[0m\u001b[0;34m\u001b[0m\u001b[0m\n",
            "\u001b[0;32m/usr/local/lib/python3.6/dist-packages/torch/autograd/__init__.py\u001b[0m in \u001b[0;36mbackward\u001b[0;34m(tensors, grad_tensors, retain_graph, create_graph, grad_variables)\u001b[0m\n\u001b[1;32m     91\u001b[0m     Variable._execution_engine.run_backward(\n\u001b[1;32m     92\u001b[0m         \u001b[0mtensors\u001b[0m\u001b[0;34m,\u001b[0m \u001b[0mgrad_tensors\u001b[0m\u001b[0;34m,\u001b[0m \u001b[0mretain_graph\u001b[0m\u001b[0;34m,\u001b[0m \u001b[0mcreate_graph\u001b[0m\u001b[0;34m,\u001b[0m\u001b[0;34m\u001b[0m\u001b[0;34m\u001b[0m\u001b[0m\n\u001b[0;32m---> 93\u001b[0;31m         allow_unreachable=True)  # allow_unreachable flag\n\u001b[0m\u001b[1;32m     94\u001b[0m \u001b[0;34m\u001b[0m\u001b[0m\n\u001b[1;32m     95\u001b[0m \u001b[0;34m\u001b[0m\u001b[0m\n",
            "\u001b[0;31mRuntimeError\u001b[0m: element 0 of tensors does not require grad and does not have a grad_fn"
          ]
        }
      ]
    },
    {
      "cell_type": "code",
      "metadata": {
        "id": "DSqsmv4nxDiS",
        "colab_type": "code",
        "colab": {
          "base_uri": "https://localhost:8080/",
          "height": 34
        },
        "outputId": "848bc5c8-9db3-4ed1-d11a-f467a55516a8"
      },
      "source": [
        "# Don't record the gradient\n",
        "# Useful for inference\n",
        "\n",
        "params = torch.tensor(2., requires_grad=True)\n",
        "with torch.no_grad():\n",
        "  y = x * x\n",
        "  print(x.grad_fn)"
      ],
      "execution_count": 73,
      "outputs": [
        {
          "output_type": "stream",
          "text": [
            "None\n"
          ],
          "name": "stdout"
        }
      ]
    },
    {
      "cell_type": "code",
      "metadata": {
        "id": "euL-6atBxSnb",
        "colab_type": "code",
        "colab": {}
      },
      "source": [
        "lin = nn.Linear(2, 1, bias=True)"
      ],
      "execution_count": 0,
      "outputs": []
    },
    {
      "cell_type": "code",
      "metadata": {
        "id": "RbP2MZctxVzN",
        "colab_type": "code",
        "colab": {
          "base_uri": "https://localhost:8080/",
          "height": 51
        },
        "outputId": "dd76d7da-6acf-4bfb-fc70-c8ec28661aca"
      },
      "source": [
        "lin.weight\n"
      ],
      "execution_count": 75,
      "outputs": [
        {
          "output_type": "execute_result",
          "data": {
            "text/plain": [
              "Parameter containing:\n",
              "tensor([[0.6660, 0.4315]], requires_grad=True)"
            ]
          },
          "metadata": {
            "tags": []
          },
          "execution_count": 75
        }
      ]
    },
    {
      "cell_type": "code",
      "metadata": {
        "id": "A3_DCfzUxXyF",
        "colab_type": "code",
        "colab": {
          "base_uri": "https://localhost:8080/",
          "height": 34
        },
        "outputId": "e393a583-c2a3-491c-ec0f-137d96c7bb36"
      },
      "source": [
        "type(lin.weight)"
      ],
      "execution_count": 76,
      "outputs": [
        {
          "output_type": "execute_result",
          "data": {
            "text/plain": [
              "torch.nn.parameter.Parameter"
            ]
          },
          "metadata": {
            "tags": []
          },
          "execution_count": 76
        }
      ]
    },
    {
      "cell_type": "code",
      "metadata": {
        "id": "Sxo6pMujxZ2v",
        "colab_type": "code",
        "colab": {
          "base_uri": "https://localhost:8080/",
          "height": 34
        },
        "outputId": "209712f2-262c-419e-d655-702ba9d70002"
      },
      "source": [
        "isinstance(lin.weight, torch.FloatTensor)\n"
      ],
      "execution_count": 77,
      "outputs": [
        {
          "output_type": "execute_result",
          "data": {
            "text/plain": [
              "True"
            ]
          },
          "metadata": {
            "tags": []
          },
          "execution_count": 77
        }
      ]
    },
    {
      "cell_type": "code",
      "metadata": {
        "id": "zZtdEDh9xbwT",
        "colab_type": "code",
        "colab": {}
      },
      "source": [
        ""
      ],
      "execution_count": 0,
      "outputs": []
    }
  ]
}