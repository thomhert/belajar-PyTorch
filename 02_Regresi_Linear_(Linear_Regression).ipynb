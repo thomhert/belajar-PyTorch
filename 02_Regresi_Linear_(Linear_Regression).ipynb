{
  "nbformat": 4,
  "nbformat_minor": 0,
  "metadata": {
    "colab": {
      "name": "02_Regresi Linear (Linear Regression).ipynb",
      "version": "0.3.2",
      "provenance": [],
      "include_colab_link": true
    },
    "kernelspec": {
      "name": "python3",
      "display_name": "Python 3"
    },
    "accelerator": "GPU"
  },
  "cells": [
    {
      "cell_type": "markdown",
      "metadata": {
        "id": "view-in-github",
        "colab_type": "text"
      },
      "source": [
        "<a href=\"https://colab.research.google.com/github/thomhert/belajar-PyTorch/blob/master/02_Regresi_Linear_(Linear_Regression).ipynb\" target=\"_parent\"><img src=\"https://colab.research.google.com/assets/colab-badge.svg\" alt=\"Open In Colab\"/></a>"
      ]
    },
    {
      "cell_type": "code",
      "metadata": {
        "id": "JxWnCv--zA8A",
        "colab_type": "code",
        "colab": {}
      },
      "source": [
        "%matplotlib inline\n",
        "import torch\n",
        "import torch.nn as nn\n",
        "import torch.nn.functional as F\n",
        "import torch.optim as optim\n",
        "import torchvision\n",
        "\n",
        "DEVICE = torch.device(\"cuda:0\" if torch.cuda.is_available() else \"cpu\")"
      ],
      "execution_count": 0,
      "outputs": []
    },
    {
      "cell_type": "code",
      "metadata": {
        "id": "J9UELDwjzr13",
        "colab_type": "code",
        "colab": {}
      },
      "source": [
        "import numpy as np\n",
        "from IPython.core.debugger import set_trace\n",
        "import matplotlib.pyplot as plt"
      ],
      "execution_count": 0,
      "outputs": []
    },
    {
      "cell_type": "markdown",
      "metadata": {
        "id": "AiYylGkTz7_4",
        "colab_type": "text"
      },
      "source": [
        "# Soal"
      ]
    },
    {
      "cell_type": "code",
      "metadata": {
        "id": "BHt1wqzVz1xm",
        "colab_type": "code",
        "colab": {}
      },
      "source": [
        "from sklearn.datasets import make_regression"
      ],
      "execution_count": 0,
      "outputs": []
    },
    {
      "cell_type": "code",
      "metadata": {
        "id": "h9Bz7ZLC0Bgs",
        "colab_type": "code",
        "colab": {
          "base_uri": "https://localhost:8080/",
          "height": 286
        },
        "outputId": "5ac82f97-48f2-42ed-f098-54ff51855d9f"
      },
      "source": [
        "n_features = 1\n",
        "n_samples = 100\n",
        "\n",
        "X, y = make_regression(n_samples=n_samples,\n",
        "                      n_features=n_features,\n",
        "                      noise=20,\n",
        "                      random_state=42)\n",
        "\n",
        "fix, ax = plt.subplots()\n",
        "ax.plot(X, y, \".\")"
      ],
      "execution_count": 8,
      "outputs": [
        {
          "output_type": "execute_result",
          "data": {
            "text/plain": [
              "[<matplotlib.lines.Line2D at 0x7f11a98c65f8>]"
            ]
          },
          "metadata": {
            "tags": []
          },
          "execution_count": 8
        },
        {
          "output_type": "display_data",
          "data": {
            "image/png": "[encoded data removed]",
            "text/plain": [
              "<Figure size 432x288 with 1 Axes>"
            ]
          },
          "metadata": {
            "tags": []
          }
        }
      ]
    },
    {
      "cell_type": "markdown",
      "metadata": {
        "id": "hubSQ7510b_z",
        "colab_type": "text"
      },
      "source": [
        "# Solusi"
      ]
    },
    {
      "cell_type": "code",
      "metadata": {
        "id": "LEW-3MyU0X1t",
        "colab_type": "code",
        "colab": {}
      },
      "source": [
        "X = torch.from_numpy(X).float()\n",
        "y = torch.from_numpy(y.reshape((n_samples, n_features))).float()"
      ],
      "execution_count": 0,
      "outputs": []
    },
    {
      "cell_type": "code",
      "metadata": {
        "id": "l8MKF4m40tiT",
        "colab_type": "code",
        "colab": {
          "base_uri": "https://localhost:8080/",
          "height": 34
        },
        "outputId": "4167ceb7-9d04-4cae-fb81-9a086161a7a1"
      },
      "source": [
        "X.shape"
      ],
      "execution_count": 10,
      "outputs": [
        {
          "output_type": "execute_result",
          "data": {
            "text/plain": [
              "torch.Size([100, 1])"
            ]
          },
          "metadata": {
            "tags": []
          },
          "execution_count": 10
        }
      ]
    },
    {
      "cell_type": "code",
      "metadata": {
        "id": "oX0uhQP_0ulI",
        "colab_type": "code",
        "colab": {
          "base_uri": "https://localhost:8080/",
          "height": 34
        },
        "outputId": "63e59105-f478-4282-de1f-b9dda8479e24"
      },
      "source": [
        "y.shape"
      ],
      "execution_count": 11,
      "outputs": [
        {
          "output_type": "execute_result",
          "data": {
            "text/plain": [
              "torch.Size([100, 1])"
            ]
          },
          "metadata": {
            "tags": []
          },
          "execution_count": 11
        }
      ]
    },
    {
      "cell_type": "code",
      "metadata": {
        "colab_type": "code",
        "id": "giX4mLBX09-2",
        "colab": {}
      },
      "source": [
        "class LinReg(nn.Module):\n",
        "  def __init__(self, input_dim):\n",
        "    super().__init__()\n",
        "    self.beta = nn.Linear(input_dim, 1)\n",
        "    \n",
        "  def forward(self, X):\n",
        "    return self.beta(X)"
      ],
      "execution_count": 0,
      "outputs": []
    },
    {
      "cell_type": "code",
      "metadata": {
        "id": "jnMjbakm454C",
        "colab_type": "code",
        "colab": {}
      },
      "source": [
        "model = LinReg(n_features).to(DEVICE)\n",
        "loss_fn = nn.MSELoss()\n",
        "optimizer = optim.SGD(model.parameters(), lr=0.1)\n",
        "\n",
        "X, y = X.to(DEVICE), y.to(DEVICE)"
      ],
      "execution_count": 0,
      "outputs": []
    },
    {
      "cell_type": "code",
      "metadata": {
        "id": "jXcI0VTS5kO7",
        "colab_type": "code",
        "colab": {}
      },
      "source": [
        "# Training\n",
        "model.train()\n",
        "optimizer.zero_grad()\n",
        "\n",
        "y_ = model(X)\n",
        "loss = loss_fn(y_, y)\n",
        "\n",
        "loss.backward()\n",
        "optimizer.step()"
      ],
      "execution_count": 0,
      "outputs": []
    },
    {
      "cell_type": "code",
      "metadata": {
        "id": "iqfHY9jR50K-",
        "colab_type": "code",
        "colab": {}
      },
      "source": [
        "# Eval\n",
        "model.eval()\n",
        "with torch.no_grad():\n",
        "  y_ = model(X)"
      ],
      "execution_count": 0,
      "outputs": []
    },
    {
      "cell_type": "code",
      "metadata": {
        "id": "DeZoMB2t58n-",
        "colab_type": "code",
        "colab": {
          "base_uri": "https://localhost:8080/",
          "height": 281
        },
        "outputId": "4de08e12-55c9-4785-f0ba-a01d306e510b"
      },
      "source": [
        "fig, ax = plt.subplots()\n",
        "ax.plot(X.cpu().numpy(), y_.cpu().numpy(), \".\", label=\"pred\")\n",
        "ax.plot(X.cpu().numpy(), y.cpu().numpy(), \".\", label=\"data\")\n",
        "ax.set_title(f\"MSE: {loss.item():0.1f}\")\n",
        "ax.legend();"
      ],
      "execution_count": 19,
      "outputs": [
        {
          "output_type": "display_data",
          "data": {
            "image/png": "[encoded data removed]",
            "text/plain": [
              "<Figure size 432x288 with 1 Axes>"
            ]
          },
          "metadata": {
            "tags": []
          }
        }
      ]
    },
    {
      "cell_type": "code",
      "metadata": {
        "id": "NVncmoJj6Fa9",
        "colab_type": "code",
        "colab": {}
      },
      "source": [
        ""
      ],
      "execution_count": 0,
      "outputs": []
    }
  ]
}